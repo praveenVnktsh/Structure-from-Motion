{
 "cells": [
  {
   "cell_type": "code",
   "execution_count": null,
   "metadata": {},
   "outputs": [],
   "source": []
  },
  {
   "cell_type": "markdown",
   "metadata": {
    "deletable": false,
    "editable": false,
    "nbgrader": {
     "cell_type": "markdown",
     "checksum": "7b38fd4d8449aa5b4a5f1f4c5bd9e9ae",
     "grade": false,
     "grade_id": "cell-0e7c21e26eed41ce",
     "locked": true,
     "schema_version": 3,
     "solution": false,
     "task": false
    }
   },
   "source": [
    "<img align=\"center\" src=\"images/course.png\" width=\"800\">"
   ]
  },
  {
   "cell_type": "markdown",
   "metadata": {
    "deletable": false,
    "editable": false,
    "nbgrader": {
     "cell_type": "markdown",
     "checksum": "cbc753602e9026b6a3cc3aa15d20652e",
     "grade": false,
     "grade_id": "cell-658d093e37a5868a",
     "locked": true,
     "schema_version": 3,
     "solution": false,
     "task": false
    }
   },
   "source": [
    "# 16720 (B)  3D Reconstruction - Assignment 5 - q3\n",
    "    Instructor: Kris                          TAs: Arka, Jinkun, Rawal, Rohan, Sheng-Yu"
   ]
  },
  {
   "cell_type": "code",
   "execution_count": null,
   "metadata": {
    "deletable": false,
    "editable": false,
    "nbgrader": {
     "cell_type": "code",
     "checksum": "70b98ef580f8889e2e19edc748c918d6",
     "grade": false,
     "grade_id": "cell-390ba40b7055feba",
     "locked": true,
     "schema_version": 3,
     "solution": false,
     "task": false
    }
   },
   "outputs": [],
   "source": [
    "# Helper functions for this assignment. DO NOT MODIFY!!!\n",
    "\"\"\"\n",
    "Helper functions.\n",
    "\n",
    "Written by Chen Kong, 2018.\n",
    "Modified by Zhengyi (Zen) Luo, 2021\n",
    "\"\"\"\n",
    "\n",
    "import numpy as np\n",
    "import matplotlib.pyplot as plt\n",
    "import matplotlib\n",
    "import scipy\n",
    "import cv2\n",
    "import nbimporter\n",
    "from q1 import eightpoint, sevenpoint, camera2, _epipoles, calc_epi_error, toHomogenous, _singularize\n",
    "from q2 import find_M2, plot_3D\n",
    "\n",
    "def plot_3D_dual(P_before, P_after):\n",
    "    matplotlib.use('TkAgg')\n",
    "    fig = plt.figure()\n",
    "    ax = fig.add_subplot(111, projection='3d')\n",
    "    ax.set_title(\"Blue: before; red: after\")\n",
    "    ax.scatter(P_before[:,0], P_before[:,1], P_before[:,2], c = 'blue')\n",
    "    ax.scatter(P_after[:,0], P_after[:,1], P_after[:,2], c='red')\n",
    "    while True:\n",
    "        x, y = plt.ginput(1, mouse_stop=2)[0]\n",
    "        plt.draw()\n",
    "\n"
   ]
  },
  {
   "cell_type": "markdown",
   "metadata": {
    "deletable": false,
    "editable": false,
    "nbgrader": {
     "cell_type": "markdown",
     "checksum": "63653dea8996f970b725fdd6782570a3",
     "grade": false,
     "grade_id": "cell-6e33506b3c2e5cee",
     "locked": true,
     "schema_version": 3,
     "solution": false,
     "task": false
    }
   },
   "source": [
    "## Q3: Bundle Adjustment\n",
    "Bundle Adjustment is commonly used as the last step of every feature-based 3D reconstruction algorithm. Given a set of images depicting a number of 3D points from different viewpoints, bundle adjustment is the process of simultaneously refining the 3D coordinates along with the camera parameters. It minimizes reprojection error, which is the squared sum of distances between image points and predicted points. In this section, you will implement bundle adjustment algorithm by yourself. Specifically,\n",
    "\n",
    "\n",
    "- In Q3.1, you need to implement a RANSAC algorithm to estimate the fundamental matrix F and all the inliers.\n",
    "- In Q3.2, you will need to write code to parameterize Rotation matrix $\\mathbf{R}$ using [Rodrigues formula](https://en.wikipedia.org/wiki/Rodrigues\\%27\\_formul) (Please check [this pdf](https://www2.cs.duke.edu/courses/fall13/compsci527/notes/rodrigues.pdf) for a detailed explanation), which will enable the joint optimization process for Bundle Adjustment.\n",
    "- Q3.3, you will need to first write down the objective function in rodriguesResidual, and do the bundleAdjustment.\n",
    "\n",
    "### Q3.1 RANSAC for Fundamental Matrix Recovery (15 pt implementation)\n",
    "\n",
    "In some real world applications, manually determining correspondences is infeasible and often there will be noisy correspondences. Fortunately, the RANSAC method seen (and implemented in previous assignments) in class can be applied to the problem of fundamental matrix estimation.\n",
    "\n",
    "Implement the above algorithm with the signature:\n",
    "```\n",
    "[F, inliers] = ransacF(pts1, pts2, M)\n",
    "```\n",
    "\n",
    "where `M` is defined in the same way as when we calculate the fundamental matrix and inliers is a boolean vector of size equivalent to the number of points. Here inliers are set to true only for the points that satisfy the threshold defined for the given fundamental matrix F.\n",
    "\n",
    "We have provided some noisy coorespondances in some\\_corresp\\_noisy.npz in which around $75\\%$ of the points are inliers. Compare the result of RANSAC with the result of the eight-point algorithm when ran on the noisy correspondences. \n",
    "\n",
    "**Hints:** Use the seven point to compute the fundamental matrix from the minimal set of points. Then compute the inliers, and refine your estimate using all the inliers.\n"
   ]
  },
  {
   "cell_type": "code",
   "execution_count": null,
   "metadata": {
    "deletable": false,
    "nbgrader": {
     "cell_type": "code",
     "checksum": "40a39130502960617347560f7a07f910",
     "grade": false,
     "grade_id": "cell-450fffa620eaf4bc",
     "locked": false,
     "schema_version": 3,
     "solution": true,
     "task": false
    }
   },
   "outputs": [],
   "source": [
    "def ransacF(pts1, pts2, M):\n",
    "    '''\n",
    "    Q3.1: RANSAC method.\n",
    "        Input:  pts1, Nx2 Matrix\n",
    "                pts2, Nx2 Matrix\n",
    "                M, a scaler parameter\n",
    "        Output: F, the fundamental matrix\n",
    "                inlier_curr, Nx1 bool vector set to true for inliers\n",
    "    ***\n",
    "    Hints:\n",
    "    (1) You can use the calc_epi_error from q1 with threshold to calcualte inliers. Tune the threshold based on \n",
    "        the results/expected number of inliners. You can also define your own metric. \n",
    "    (2) Use the seven point alogrithm to estimate the fundamental matrix as done in q1\n",
    "    (3) Choose the resulting F that has the most number of inliers\n",
    "    (4) You can increase the nIters to bigger/smaller values\n",
    "        \n",
    "    '''\n",
    "    N = pts1.shape[0]\n",
    "    pts1_homo, pts2_homo = toHomogenous(pts1), toHomogenous(pts2)\n",
    "    threshold = 10\n",
    "    max_itaration = 1000\n",
    "    best_inlier = 0\n",
    "    inlier_curr = None\n",
    "    # ----- TODO -----\n",
    "    # YOUR CODE HERE\n",
    "    raise NotImplementedError()\n",
    "    return F, inlier_curr\n",
    "\n",
    "\n",
    "np.random.seed(0)\n",
    "np.set_printoptions(precision=4, suppress=1)\n",
    "correspondence = np.load('data/some_corresp_noisy.npz') # Loading noisy correspondences\n",
    "intrinsics = np.load('data/intrinsics.npz') # Loading the intrinscis of the camera\n",
    "K1, K2 = intrinsics['K1'], intrinsics['K2']\n",
    "pts1, pts2 = correspondence['pts1'], correspondence['pts2']\n",
    "im1 = plt.imread('data/im1.png')\n",
    "im2 = plt.imread('data/im2.png')\n",
    "F, inliners = ransacF(pts1, pts2, M=np.max([*im1.shape, *im2.shape]))\n"
   ]
  },
  {
   "cell_type": "code",
   "execution_count": null,
   "metadata": {
    "deletable": false,
    "editable": false,
    "nbgrader": {
     "cell_type": "code",
     "checksum": "889f2b6957de9a6af62dba0256ab7700",
     "grade": true,
     "grade_id": "q3_1_a",
     "locked": true,
     "points": 15,
     "schema_version": 3,
     "solution": false,
     "task": false
    }
   },
   "outputs": [],
   "source": [
    "# Full set of tests; you will get full points for coding if passing the following tests. \n",
    "assert(np.sum(inliners) > len(pts1) * 0.7)"
   ]
  },
  {
   "cell_type": "markdown",
   "metadata": {
    "deletable": false,
    "editable": false,
    "nbgrader": {
     "cell_type": "markdown",
     "checksum": "e8b726917dad5ac710485168269e58e9",
     "grade": false,
     "grade_id": "cell-0b8fd67e54fadaa8",
     "locked": true,
     "schema_version": 3,
     "solution": false,
     "task": false
    }
   },
   "source": [
    "### Q3.2 Rodrigues and Invsere Rodrigues (10 pt implementation)\n",
    "So far we have independently solved for the camera matrix, $\\mathbf{M}_j$ and 3D projections, $\\textbf{w}_i$. In bundle adjustment, we will jointly optimize the reprojection error with respect to the points $\\textbf{w}_i$ and the camera matrix $\\textbf{w}_j$.\n",
    "\n",
    "$$\n",
    "err = \\sum_{ij} ||\\textbf{x}_{ij} - Proj(\\mathbf{C}_j, \\textbf{w}_i)||^2,\n",
    "$$\n",
    "where $\\textbf{w}_j = \\mathbf{K}_j \\mathbf{M}_j$.\n",
    "\n",
    "For this homework, we are going to only look at optimizing the extrinsic matrix. The rotation matrix forms the Lie Group $\\textbf{SO}(3)$ that doesn't satisfy the addition operation so it cannot be directly optimized. Instead, we parameterize the rotation matrix to axis angle using Rodrigues formula to the Lie Algebra $\\mathfrak{so}(3)$, which is defined in $\\mathbb{R}^3$. through which the least squares optimization process can be done to optimize the axis angle. Try to implement function\n",
    "\n",
    "```\n",
    "R = rodrigues(r)\n",
    "```\n",
    "\n",
    "as well as the inverse function that converts a rotation matrix $\\mathbf{R}$ to a Rodrigues vector $\\mathbf{r}$\n",
    "\n",
    "```\n",
    "r = invRodrigues(R)\n",
    "```\n",
    "\n",
    "Please refer to [Rodrigues formula](https://en.wikipedia.org/wiki/Rodrigues\\%27\\_formul)  and [this pdf](https://www2.cs.duke.edu/courses/fall13/compsci527/notes/rodrigues.pdf) for reference.\n"
   ]
  },
  {
   "cell_type": "code",
   "execution_count": null,
   "metadata": {
    "deletable": false,
    "nbgrader": {
     "cell_type": "code",
     "checksum": "0723daffdd025e6e90dffcca9f785f9d",
     "grade": true,
     "grade_id": "cell-f7107c598b84fe13",
     "locked": false,
     "points": 0,
     "schema_version": 3,
     "solution": true,
     "task": false
    }
   },
   "outputs": [],
   "source": [
    "def rodrigues(r):\n",
    "    '''\n",
    "    Q3.2: Rodrigues formula.\n",
    "        Input:  r, a 3x1 vector\n",
    "        Output: R, a 3x3 rotation matrix\n",
    "    '''\n",
    "    # ----- TODO -----\n",
    "    # YOUR CODE HERE\n",
    "    raise NotImplementedError()\n",
    "    return R\n",
    "\n",
    "\n",
    "def invRodrigues(R):\n",
    "    '''\n",
    "    Q5.2: Inverse Rodrigues formula.\n",
    "        Input:  R, a 3x3 rotation matrix\n",
    "        Output: r, a 3x1 vector\n",
    "    '''\n",
    "    # ----- TODO -----\n",
    "    # YOUR CODE HERE\n",
    "    raise NotImplementedError()\n",
    "    return r\n"
   ]
  },
  {
   "cell_type": "code",
   "execution_count": null,
   "metadata": {
    "deletable": false,
    "editable": false,
    "nbgrader": {
     "cell_type": "code",
     "checksum": "6b74bcc4111f94960e62b127a29e3560",
     "grade": true,
     "grade_id": "q3_2_a",
     "locked": true,
     "points": 3,
     "schema_version": 3,
     "solution": false,
     "task": false
    }
   },
   "outputs": [],
   "source": [
    "# Simple Tests to verify your implmentation:\n",
    "from scipy.spatial.transform import Rotation as sRot\n",
    "rotVec = sRot.random()\n",
    "mat = rodrigues(rotVec.as_rotvec())\n",
    "\n",
    "assert(np.linalg.norm(rotVec.as_rotvec() - invRodrigues(mat)) < 1e-3)\n",
    "assert(np.linalg.norm(rotVec.as_matrix() - mat) < 1e-3)\n",
    "\n"
   ]
  },
  {
   "cell_type": "code",
   "execution_count": null,
   "metadata": {
    "deletable": false,
    "editable": false,
    "nbgrader": {
     "cell_type": "code",
     "checksum": "e11db5c7284825dc336b6f7b7206a97c",
     "grade": true,
     "grade_id": "q3_2_b",
     "locked": true,
     "points": 7,
     "schema_version": 3,
     "solution": false,
     "task": false
    }
   },
   "outputs": [],
   "source": [
    "# Hidden Tests"
   ]
  },
  {
   "cell_type": "markdown",
   "metadata": {
    "deletable": false,
    "editable": false,
    "nbgrader": {
     "cell_type": "markdown",
     "checksum": "66157d998361fe4480f8c0717bc4235a",
     "grade": false,
     "grade_id": "cell-7e9d53a35b7095e0",
     "locked": true,
     "schema_version": 3,
     "solution": false,
     "task": false
    }
   },
   "source": [
    "### Q3.3 Bundle Adjustment (10 pt writeup)\n",
    "\n",
    "In this section, you need to implement the bundle adjustment algorithm. Using the parameterization you implemented in the last question, write an objective function for the extrinsic optimization:\n",
    "\n",
    "```\n",
    "residuals = rodriguesResidual(K1, M1, p1, K2, p2, x)\n",
    "```\n",
    "where x is the flattened concatenation of $\\mathbf{w}$, $\\mathbf{r}_2$, and $\\mathbf{t}_2$.\n",
    "$\\mathbf{w}$ are the 3D points; $\\mathbf{r}_2$ and $\\mathbf{t}_2$ are the rotation (in the Rodrigues vector form) and translation vectors associated with the projection matrix $\\mathbf{M}_2$; $p1$ and $p2$ are 2D coordinates of points in image 1 and 2, respectively. The `residuals` are the difference between the original image projections and the estimated projections (the square of $2$-norm of this vector corresponds to the error we computed in Q3.2):\n",
    "```\n",
    "residuals = numpy.concatenate([(p1-p1').reshape([-1]), (p2-p2').reshape([-1])])\n",
    "```\n",
    "\n",
    "Use this objective function and Scipy's nonlinear least squares optimizer $\\texttt{leastsq}$ write a function to optimize for the best extrinsic matrix and 3D points using the inlier correspondences from some_corresp_noisy.npz and the RANSAC estimate of the extrinsics and 3D points as an initialization.\n",
    "\n",
    "```\n",
    "[M2, w, o1, o2] = bundleAdjustment(K1, M1, p1, K2, M2_init, p2, p_init)\n",
    "```\n",
    "\n",
    "Try to extract the rotation and translation from `M2_init`, then use `invRodrigues` you implemented previously to transform the rotation, concatenate it with translation and the 3D points, then the concatenate vector are variables to be optimized. After obtaining optimized vector, decompose it back to rotation using `Rodrigues` you implemented previously, translation and 3D points coordinates.\n",
    "\n",
    "<span style='color:red'>**Output:**</span> In your write-up: include an image of output of the `plot_3D_dual` function by passing in the original 3D points and the optimized points. Also include the before and after reprojection error for the `rodriguesResidual` function.\n",
    "\n"
   ]
  },
  {
   "cell_type": "code",
   "execution_count": null,
   "metadata": {
    "deletable": false,
    "nbgrader": {
     "cell_type": "code",
     "checksum": "dd47def2203bf2ac3c9ec5387769e73c",
     "grade": false,
     "grade_id": "cell-21b599d494aeefec",
     "locked": false,
     "schema_version": 3,
     "solution": true,
     "task": false
    }
   },
   "outputs": [],
   "source": [
    "def rodriguesResidual(K1, M1, p1, K2, p2, x):\n",
    "    '''\n",
    "    Q3.3: Rodrigues residual.\n",
    "        Input:  K1, the intrinsics of camera 1\n",
    "                M1, the extrinsics of camera 1\n",
    "                p1, the 2D coordinates of points in image 1\n",
    "                K2, the intrinsics of camera 2\n",
    "                p2, the 2D coordinates of points in image 2\n",
    "                x, the flattened concatenationg of P, r2, and t2.\n",
    "        Output: residuals, 4N x 1 vector, the difference between original \n",
    "                and estimated projections\n",
    "    '''\n",
    "    residuals = None\n",
    "    # ----- TODO -----\n",
    "    # YOUR CODE HERE\n",
    "    raise NotImplementedError()\n",
    "    return residuals\n",
    "\n",
    "\n",
    "def bundleAdjustment(K1, M1, p1, K2, M2_init, p2, P_init):\n",
    "    '''\n",
    "    Q3.3 Bundle adjustment.\n",
    "        Input:  K1, the intrinsics of camera 1\n",
    "                M1, the extrinsics of camera 1\n",
    "                p1, the 2D coordinates of points in image 1\n",
    "                K2,  the intrinsics of camera 2\n",
    "                M2_init, the initial extrinsics of camera 1\n",
    "                p2, the 2D coordinates of points in image 2\n",
    "                P_init, the initial 3D coordinates of points\n",
    "        Output: M2, the optimized extrinsics of camera 1\n",
    "                P2, the optimized 3D coordinates of points\n",
    "                o1, the starting objective function value with the initial input\n",
    "                o2, the ending objective function value after bundle adjustment\n",
    "    \n",
    "    ***\n",
    "    Hints:\n",
    "    (1) Use the scipy.optimize.minimize function to minimize the objective function, rodriguesResidual. \n",
    "        You can try different (method='..') in scipy.optimize.minimize for best results. \n",
    "    '''\n",
    "    obj_start = obj_end = 0\n",
    "    # ----- TODO -----\n",
    "    # YOUR CODE HERE\n",
    "    raise NotImplementedError()\n",
    "    return M2, P, obj_start, obj_end\n"
   ]
  },
  {
   "cell_type": "code",
   "execution_count": null,
   "metadata": {
    "deletable": false,
    "editable": false,
    "nbgrader": {
     "cell_type": "code",
     "checksum": "eac4fc831222752503aeaad066449e09",
     "grade": false,
     "grade_id": "cell-cb33726364687902",
     "locked": true,
     "schema_version": 3,
     "solution": false,
     "task": false
    }
   },
   "outputs": [],
   "source": [
    "# Visualization:\n",
    "np.random.seed(0)\n",
    "correspondence = np.load('data/some_corresp_noisy.npz') # Loading noisy correspondences\n",
    "intrinsics = np.load('data/intrinsics.npz') # Loading the intrinscis of the camera\n",
    "K1, K2 = intrinsics['K1'], intrinsics['K2']\n",
    "pts1, pts2 = correspondence['pts1'], correspondence['pts2']\n",
    "im1 = plt.imread('data/im1.png')\n",
    "im2 = plt.imread('data/im2.png')\n",
    "\n",
    "M=np.max([*im1.shape, *im2.shape])\n",
    "F, inliners = ransacF(pts1, pts2, M)\n",
    "pts1_inliners = pts1[inliners.squeeze(), :]\n",
    "pts2_inliners = pts2[inliners.squeeze(), :]\n",
    "\n",
    "M1 = np.hstack((np.identity(3), np.zeros(3)[:,np.newaxis]))\n",
    "C1 = K1.dot(M1)\n",
    "M2_init,C2, P_init = find_M2(F, pts1_inliners, pts2_inliners, intrinsics)\n",
    "\n",
    "M2, P_final, obj_start, obj_end = bundleAdjustment(K1, M1, pts1_inliners, K2, M2_init, pts2_inliners, P_init)\n",
    "print(f\"Before {obj_start}, After {obj_end}\")\n",
    "plot_3D_dual(P_init, P_final)\n"
   ]
  },
  {
   "cell_type": "code",
   "execution_count": null,
   "metadata": {},
   "outputs": [],
   "source": []
  }
 ],
 "metadata": {
  "kernelspec": {
   "display_name": "Python 3 (ipykernel)",
   "language": "python",
   "name": "python3"
  },
  "language_info": {
   "codemirror_mode": {
    "name": "ipython",
    "version": 3
   },
   "file_extension": ".py",
   "mimetype": "text/x-python",
   "name": "python",
   "nbconvert_exporter": "python",
   "pygments_lexer": "ipython3",
   "version": "3.8.13"
  },
  "toc": {
   "base_numbering": 1,
   "nav_menu": {},
   "number_sections": false,
   "sideBar": true,
   "skip_h1_title": false,
   "title_cell": "Table of Contents",
   "title_sidebar": "Contents",
   "toc_cell": false,
   "toc_position": {
    "height": "calc(100% - 180px)",
    "left": "10px",
    "top": "150px",
    "width": "341.108px"
   },
   "toc_section_display": true,
   "toc_window_display": true
  }
 },
 "nbformat": 4,
 "nbformat_minor": 2
}

{
 "cells": [
  {
   "cell_type": "code",
   "execution_count": null,
   "metadata": {},
   "outputs": [],
   "source": []
  },
  {
   "cell_type": "markdown",
   "metadata": {
    "deletable": false,
    "editable": false,
    "nbgrader": {
     "cell_type": "markdown",
     "checksum": "c152051cea0bc68318e81c8cdecf304d",
     "grade": false,
     "grade_id": "cell-2522c7288d9dd23e",
     "locked": true,
     "schema_version": 3,
     "solution": false,
     "task": false
    }
   },
   "source": [
    "<img align=\"center\" src=\"images/course.png\" width=\"800\">"
   ]
  },
  {
   "cell_type": "markdown",
   "metadata": {
    "deletable": false,
    "editable": false,
    "nbgrader": {
     "cell_type": "markdown",
     "checksum": "d7e4a581208e67bb2538f8be065c3a64",
     "grade": false,
     "grade_id": "cell-3ce61291dddd1b09",
     "locked": true,
     "schema_version": 3,
     "solution": false,
     "task": false
    }
   },
   "source": [
    "# 16720 (B)  3D Reconstruction - Assignment 5 - P1\n",
    "    Instructor: Kris                          TAs: Arka, Jinkun, Rawal, Rohan, Sheng-Yu"
   ]
  },
  {
   "cell_type": "code",
   "execution_count": 1,
   "metadata": {
    "deletable": false,
    "editable": false,
    "nbgrader": {
     "cell_type": "code",
     "checksum": "a7fe0eb670001822d9b652a23197e988",
     "grade": false,
     "grade_id": "cell-4c22112d7bc3ca53",
     "locked": true,
     "schema_version": 3,
     "solution": false,
     "task": false
    }
   },
   "outputs": [],
   "source": [
    "# Helper functions for this assignment. DO NOT MODIFY!!!\n",
    "\"\"\"\n",
    "Helper functions.\n",
    "\"\"\"\n",
    "\n",
    "import numpy as np\n",
    "import matplotlib.pyplot as plt\n",
    "import matplotlib\n",
    "import scipy\n",
    "import scipy.optimize\n",
    "\n",
    "\n",
    "\n",
    "def _epipoles(E):\n",
    "    U, S, V = np.linalg.svd(E)\n",
    "    e1 = V[-1, :]\n",
    "    U, S, V = np.linalg.svd(E.T)\n",
    "    e2 = V[-1, :]\n",
    "    return e1, e2\n",
    "\n",
    "def displayEpipolarF(I1, I2, F):\n",
    "    matplotlib.use('TkAgg')\n",
    "    e1, e2 = _epipoles(F)\n",
    "\n",
    "    sy, sx, _ = I2.shape\n",
    "\n",
    "    f, [ax1, ax2] = plt.subplots(1, 2, figsize=(12, 9))\n",
    "    ax1.imshow(I1)\n",
    "    ax1.set_title('Select a point in this image')\n",
    "    ax1.set_axis_off()\n",
    "    ax2.imshow(I2)\n",
    "    ax2.set_title('Verify that the corresponding point \\n is on the epipolar line in this image')\n",
    "    ax2.set_axis_off()\n",
    "\n",
    "    while True:\n",
    "        plt.sca(ax1)\n",
    "        x, y = plt.ginput(1, timeout=3600, mouse_stop=2)[0]\n",
    "\n",
    "        xc = x\n",
    "        yc = y\n",
    "        v = np.array([xc, yc, 1])\n",
    "        l = F.dot(v)\n",
    "        s = np.sqrt(l[0]**2+l[1]**2)\n",
    "\n",
    "        if s==0:\n",
    "            error('Zero line vector in displayEpipolar')\n",
    "\n",
    "        l = l/s\n",
    "\n",
    "        if l[0] != 0:\n",
    "            ye = sy-1\n",
    "            ys = 0\n",
    "            xe = -(l[1] * ye + l[2])/l[0]\n",
    "            xs = -(l[1] * ys + l[2])/l[0]\n",
    "        else:\n",
    "            xe = sx-1\n",
    "            xs = 0\n",
    "            ye = -(l[0] * xe + l[2])/l[1]\n",
    "            ys = -(l[0] * xs + l[2])/l[1]\n",
    "\n",
    "        # plt.plot(x,y, '*', 'MarkerSize', 6, 'LineWidth', 2);\n",
    "        ax1.plot(x, y, '*', markersize=6, linewidth=2)\n",
    "        ax2.plot([xs, xe], [ys, ye], linewidth=2)\n",
    "        plt.draw()\n",
    "\n",
    "\n",
    "def _singularize(F):\n",
    "    U, S, V = np.linalg.svd(F)\n",
    "    S[-1] = 0\n",
    "    F = U.dot(np.diag(S).dot(V))\n",
    "    return F\n",
    "\n",
    "def _objective_F(f, pts1, pts2):\n",
    "    F = _singularize(f.reshape([3, 3]))\n",
    "    num_points = pts1.shape[0]\n",
    "    hpts1 = np.concatenate([pts1, np.ones([num_points, 1])], axis=1)\n",
    "    hpts2 = np.concatenate([pts2, np.ones([num_points, 1])], axis=1)\n",
    "    Fp1 = F.dot(hpts1.T)\n",
    "    FTp2 = F.T.dot(hpts2.T)\n",
    "\n",
    "    r = 0\n",
    "    for fp1, fp2, hp2 in zip(Fp1.T, FTp2.T, hpts2):\n",
    "        r += (hp2.dot(fp1))**2 * (1/(fp1[0]**2 + fp1[1]**2) + 1/(fp2[0]**2 + fp2[1]**2))\n",
    "    return r\n",
    "\n",
    "def refineF(F, pts1, pts2):\n",
    "    f = scipy.optimize.fmin_powell(\n",
    "        lambda x: _objective_F(x, pts1, pts2), F.reshape([-1]),\n",
    "        maxiter=100000,\n",
    "        maxfun=10000,\n",
    "        disp = False\n",
    "    )\n",
    "    return _singularize(f.reshape([3, 3]))\n",
    "\n",
    "def camera2(E):\n",
    "    U,S,V = np.linalg.svd(E)\n",
    "    m = S[:2].mean()\n",
    "    E = U.dot(np.array([[m,0,0], [0,m,0], [0,0,0]])).dot(V)\n",
    "    U,S,V = np.linalg.svd(E)\n",
    "    W = np.array([[0,-1,0], [1,0,0], [0,0,1]])\n",
    "\n",
    "    if np.linalg.det(U.dot(W).dot(V))<0:\n",
    "        W = -W\n",
    "\n",
    "    M2s = np.zeros([3,4,4])\n",
    "    M2s[:,:,0] = np.concatenate([U.dot(W).dot(V), U[:,2].reshape([-1, 1])/abs(U[:,2]).max()], axis=1)\n",
    "    M2s[:,:,1] = np.concatenate([U.dot(W).dot(V), -U[:,2].reshape([-1, 1])/abs(U[:,2]).max()], axis=1)\n",
    "    M2s[:,:,2] = np.concatenate([U.dot(W.T).dot(V), U[:,2].reshape([-1, 1])/abs(U[:,2]).max()], axis=1)\n",
    "    M2s[:,:,3] = np.concatenate([U.dot(W.T).dot(V), -U[:,2].reshape([-1, 1])/abs(U[:,2]).max()], axis=1)\n",
    "    return M2s\n",
    "\n",
    "\n",
    "def calc_epi_error(pts1_homo, pts2_homo, F):\n",
    "    '''\n",
    "    Helper function to calculate the sum of squared distance between the corresponding points and the estimated epipolar lines. \n",
    "    Expect pts1 and pts2 are in homogeneous coordinates and not normalized. \n",
    "    '''\n",
    "    line1s = pts1_homo.dot(F.T)\n",
    "    dist1 = np.square(np.divide(np.sum(np.multiply(\n",
    "        line1s, pts2_homo), axis=1), np.linalg.norm(line1s[:, :2], axis=1)))\n",
    "\n",
    "    line2s = pts2_homo.dot(F)\n",
    "    dist2 = np.square(np.divide(np.sum(np.multiply(\n",
    "        line2s, pts1_homo), axis=1), np.linalg.norm(line2s[:, :2], axis=1)))\n",
    "\n",
    "    ress = (dist1 + dist2).flatten()\n",
    "    return ress\n",
    "\n",
    "\n",
    "def toHomogenous(pts):\n",
    "    return np.vstack([pts[:,0],pts[:,1],np.ones(pts.shape[0])]).T.copy()"
   ]
  },
  {
   "cell_type": "markdown",
   "metadata": {
    "deletable": false,
    "editable": false,
    "nbgrader": {
     "cell_type": "markdown",
     "checksum": "b2c8376fbd6b1450c2d88a3d24d39808",
     "grade": false,
     "grade_id": "cell-05f0109e668f5050",
     "locked": true,
     "schema_version": 3,
     "solution": false,
     "task": false
    }
   },
   "source": [
    "# Coding P1: Fundamental Matrix Estimation\n",
    "\n",
    "## Overview\n",
    "In this part, you will implement two different methods seen in class to estimate the fundamental matrix from the corresponding points in a pair images. In the data/ directory, you will find two images: \n",
    "\n",
    "|![alt](images/im1.png) |![alt](images/im2.png)|\n",
    "|-|-|\n",
    "\n",
    "from the [Middlebury multiview dataset](http://vision.middlebury.edu/mview/data/)., which is used to evaluate the performance of modern 3D reconstruction algorithms.\n",
    "\n"
   ]
  },
  {
   "cell_type": "markdown",
   "metadata": {
    "deletable": false,
    "editable": false,
    "nbgrader": {
     "cell_type": "markdown",
     "checksum": "74331ff00a35ccf26bebcd12828c475e",
     "grade": false,
     "grade_id": "cell-f025e4a2bff3944c",
     "locked": true,
     "schema_version": 3,
     "solution": false,
     "task": false
    }
   },
   "source": [
    "## Q1: Fundamental matrix estimation\n",
    "### Q1.1: The Eight Point Algorithm (2 pt writeup, 8 pt implementation)\n",
    "The 8-point algorithm (discussed in class, and outlined in Section 10.1 of Forsyth & Ponce) is arguably the simplest method for estimating the fundamental matrix. For this section, you can use provided correspondences you can find in data/some corresp.npz. Write the function: \n",
    "\n",
    "```\n",
    "            F = eightpoint(pts1, pts2, m)\n",
    "```\n",
    "where pts1 and pts2 are $N \\times 2$ matrices corresponding to the $(x,y)$ coordinates of the $N$ points in the first and second image respectively. **M** is a scale parameter.\n",
    "\n",
    "-  You should scale the data as was discussed in class, by dividing each\n",
    "    coordinate by $m$ (the maximum of the image's width and height). After\n",
    "    computing $\\textbf{F}$, you will have to \"unscale\" the fundamental matrix.\n",
    " **Hint:** If $\\textbf{x}_{normalized} = \\textbf{T}\\textbf{x}$, then $\\textbf{F}_{unnormalized} = \\textbf{T}^T \\textbf{F} \\textbf{T}$. $\\textbf{T}$ is a $3 \\times 3$ diagonal matrix formed from $\\texttt{m}$. \n",
    "     \n",
    "     You must enforce the singularity condition of the $\\textbf{F}$ before unscaling.\n",
    "     \n",
    "- You may find it helpful to refine the solution by using local\n",
    "    minimization.  This probably won't fix a completely broken solution, but may make a good solution better by locally minimizing a geometric cost function. For this, we have provided a helper function `refineF` in taking in $\\textbf{F}$ and two sets of points, which you can call from `eightpoint` before unscaling `F`.\n",
    "  \n",
    "- Remember that the $x$-coordinate of a point in the image is its column entry, and $y$-coordinate is the row entry. Also note that eight-point is just a figurative name, it just means that you need at least 8 points; your algorithm should use an over-determined system ($N>8$ points).\n",
    "    \n",
    "- To visualize the correctness of your estimated $\\textbf{F}$, use the supplied function `displayEpipolarF`, which takes in F, and the two images. This GUI lets you select a point in one of the images and visualize the corresponding epipolar line in the other image.\n",
    "\n",
    "- In addition to visualization, we also provide a helper function `calc_epi_error` to evaluate the quality of the estimated fundamental matrix. This function calculates the distance between the estimated epipolar line and the corresponding points. For the eight point algorithm, the error should on average be < 1. \n",
    "\n",
    "<img align=\"center\" src=\"images/epi.png\" width=\"800\">\n",
    "\n",
    "**Important:** <span style='color:red'>Notice that since we are using Jupyter, it is a bit tricky to have a functional GUI.</span> Here we use the `matplotlib.use('TkAgg')` as backend for launching an external gui plot. You can close the popup gui to end the gui process. In the case where the gui hangs and does not close naturally, restart the notebook kernel usually does the trick. \n",
    "\n",
    "Reference to install tkinker in your system if you are having issues [link](https://stackoverflow.com/questions/4783810/install-tkinter-for-python). \n",
    "\n",
    "<span style='color:red'>**Output:**</span> In your write-up: Write your recovered $\\textbf{F}$ and include an image of some example outputs of displayEpipolarF."
   ]
  },
  {
   "cell_type": "code",
   "execution_count": 2,
   "metadata": {
    "deletable": false,
    "nbgrader": {
     "cell_type": "code",
     "checksum": "1bdc1c6c91623d7e4844391bb2e425ef",
     "grade": false,
     "grade_id": "eightpoint",
     "locked": false,
     "schema_version": 3,
     "solution": true,
     "task": false
    }
   },
   "outputs": [],
   "source": [
    "def eightpoint(pts1, pts2, M):\n",
    "    '''\n",
    "    Q1.1: Eight Point Algorithm for calculating the fundamental matrix\n",
    "        Input:  pts1, Nx2 Matrix containing the corresponding points from image1\n",
    "                pts2, Nx2 Matrix containing the corresponding points from image2\n",
    "                M, a scalar parameter computed as max (imwidth, imheight)\n",
    "        Output: F, the fundamental matrix of shape (3, 3)\n",
    "    \n",
    "    ***\n",
    "    HINTS:\n",
    "    (1) Normalize the input pts1 and pts2 using the matrix T.\n",
    "    (2) Setup the eight point algorithm's equation.\n",
    "    (3) Solve for the least square solution using SVD. \n",
    "    (4) Use the function `_singularize` (provided) to enforce the singularity condition. \n",
    "    (5) Use the function `refineF` (provided) to refine the computed fundamental matrix. \n",
    "        (Remember to usethe normalized points instead of the original points)\n",
    "    (6) Unscale the fundamental matrix\n",
    "\n",
    "    '''\n",
    "\n",
    "    F = None # output fundamental matrix \n",
    "    N = pts1.shape[0] # Extrating the number of points  \n",
    "    T = np.diag([1/M, 1/M, 1])\n",
    "    \n",
    "    # Converting the points to homogenous coordinates\n",
    "    pts1_homogenous, pts2_homogenous = toHomogenous(pts1), toHomogenous(pts2)\n",
    "    pts1_homogenous = np.dot(T, pts1_homogenous.T).T\n",
    "    pts2_homogenous = np.dot(T, pts2_homogenous.T).T\n",
    "    # Computing the 3x3 matrix used to normalize corresponding points. \n",
    "    \n",
    "    A = []\n",
    "    for i in range(len(pts1_homogenous)):\n",
    "        temp = []\n",
    "        pt1 = pts1_homogenous[i]\n",
    "        pt2 = pts2_homogenous[i]\n",
    "\n",
    "        temp.append(pt1[0] * pt2[0])\n",
    "        temp.append(pt1[0] * pt2[1])\n",
    "        temp.append(pt1[0] )\n",
    "        temp.append(pt1[1] * pt2[0])\n",
    "        temp.append(pt1[1] * pt2[1])\n",
    "        temp.append(pt1[1] )\n",
    "        temp.append(pt2[0])\n",
    "        temp.append(pt2[1])\n",
    "        temp.append(1)\n",
    "        A.append(temp)\n",
    "\n",
    "    A = np.array(A)\n",
    "\n",
    "    U, S, V = np.linalg.svd(A)\n",
    "    F = V[-1].reshape(3, 3).T\n",
    "    \n",
    "    F = _singularize(F)  \n",
    "    \n",
    "    F = refineF(F, pts1/M, pts2/M)\n",
    "    F = np.dot(np.dot(T.T, F), T)\n",
    "    \n",
    "    F = F/F[2,2] #Finding the unique fundamental matrix by setting the scale to 1. \n",
    "    return F\n",
    "\n",
    "\n"
   ]
  },
  {
   "cell_type": "code",
   "execution_count": 3,
   "metadata": {
    "deletable": false,
    "editable": false,
    "nbgrader": {
     "cell_type": "code",
     "checksum": "0c8977f8a55b36a7b88a0ca16b1c99bb",
     "grade": false,
     "grade_id": "cell-dd1293cb01f592da",
     "locked": true,
     "schema_version": 3,
     "solution": false,
     "task": false
    }
   },
   "outputs": [
    {
     "name": "stdout",
     "output_type": "stream",
     "text": [
      "[[-0.      0.     -0.2519]\n",
      " [ 0.     -0.      0.0026]\n",
      " [ 0.2422 -0.0068  1.    ]]\n",
      "Error: 0.39895034989884903\n"
     ]
    }
   ],
   "source": [
    "# Load images and visualize epipolar lines. \n",
    "np.set_printoptions(precision=4, suppress=1)\n",
    "correspondence = np.load('data/some_corresp.npz') # Loading correspondences\n",
    "intrinsics = np.load('data/intrinsics.npz') # Loading the intrinscis of the camera\n",
    "K1, K2 = intrinsics['K1'], intrinsics['K2']\n",
    "pts1, pts2 = correspondence['pts1'], correspondence['pts2']\n",
    "\n",
    "im1 = plt.imread('data/im1.png')\n",
    "im2 = plt.imread('data/im2.png')\n",
    "F = eightpoint(pts1, pts2, M=np.max([*im1.shape, *im2.shape]))\n",
    "print(F)\n",
    "N = pts1.shape[0]\n",
    "pts1_homogenous, pts2_homogenous = toHomogenous(pts1), toHomogenous(pts2)\n",
    "print(\"Error:\", np.mean(calc_epi_error(pts1_homogenous, pts2_homogenous, F)))\n",
    "\n",
    "## Important!! Uncomment this line to visualize, but before you submit, \n"
   ]
  },
  {
   "cell_type": "code",
   "execution_count": 4,
   "metadata": {},
   "outputs": [
    {
     "ename": "KeyboardInterrupt",
     "evalue": "",
     "output_type": "error",
     "traceback": [
      "\u001b[1;31m---------------------------------------------------------------------------\u001b[0m",
      "\u001b[1;31mKeyboardInterrupt\u001b[0m                         Traceback (most recent call last)",
      "\u001b[1;32mg:\\My Drive\\Acads\\Computer Vision\\Assignments\\hw5\\q1.ipynb Cell 9\u001b[0m in \u001b[0;36m<cell line: 1>\u001b[1;34m()\u001b[0m\n\u001b[1;32m----> <a href='vscode-notebook-cell:/g%3A/My%20Drive/Acads/Computer%20Vision/Assignments/hw5/q1.ipynb#X11sZmlsZQ%3D%3D?line=0'>1</a>\u001b[0m displayEpipolarF(im1, im2, F)\n",
      "\u001b[1;32mg:\\My Drive\\Acads\\Computer Vision\\Assignments\\hw5\\q1.ipynb Cell 9\u001b[0m in \u001b[0;36mdisplayEpipolarF\u001b[1;34m(I1, I2, F)\u001b[0m\n\u001b[0;32m     <a href='vscode-notebook-cell:/g%3A/My%20Drive/Acads/Computer%20Vision/Assignments/hw5/q1.ipynb#X11sZmlsZQ%3D%3D?line=34'>35</a>\u001b[0m \u001b[39mwhile\u001b[39;00m \u001b[39mTrue\u001b[39;00m:\n\u001b[0;32m     <a href='vscode-notebook-cell:/g%3A/My%20Drive/Acads/Computer%20Vision/Assignments/hw5/q1.ipynb#X11sZmlsZQ%3D%3D?line=35'>36</a>\u001b[0m     plt\u001b[39m.\u001b[39msca(ax1)\n\u001b[1;32m---> <a href='vscode-notebook-cell:/g%3A/My%20Drive/Acads/Computer%20Vision/Assignments/hw5/q1.ipynb#X11sZmlsZQ%3D%3D?line=36'>37</a>\u001b[0m     x, y \u001b[39m=\u001b[39m plt\u001b[39m.\u001b[39;49mginput(\u001b[39m1\u001b[39;49m, timeout\u001b[39m=\u001b[39;49m\u001b[39m3600\u001b[39;49m, mouse_stop\u001b[39m=\u001b[39;49m\u001b[39m2\u001b[39;49m)[\u001b[39m0\u001b[39m]\n\u001b[0;32m     <a href='vscode-notebook-cell:/g%3A/My%20Drive/Acads/Computer%20Vision/Assignments/hw5/q1.ipynb#X11sZmlsZQ%3D%3D?line=38'>39</a>\u001b[0m     xc \u001b[39m=\u001b[39m x\n\u001b[0;32m     <a href='vscode-notebook-cell:/g%3A/My%20Drive/Acads/Computer%20Vision/Assignments/hw5/q1.ipynb#X11sZmlsZQ%3D%3D?line=39'>40</a>\u001b[0m     yc \u001b[39m=\u001b[39m y\n",
      "File \u001b[1;32mc:\\Users\\prave\\.conda\\envs\\lpy\\lib\\site-packages\\matplotlib\\pyplot.py:2240\u001b[0m, in \u001b[0;36mginput\u001b[1;34m(n, timeout, show_clicks, mouse_add, mouse_pop, mouse_stop)\u001b[0m\n\u001b[0;32m   2235\u001b[0m \u001b[39m@_copy_docstring_and_deprecators\u001b[39m(Figure\u001b[39m.\u001b[39mginput)\n\u001b[0;32m   2236\u001b[0m \u001b[39mdef\u001b[39;00m \u001b[39mginput\u001b[39m(\n\u001b[0;32m   2237\u001b[0m         n\u001b[39m=\u001b[39m\u001b[39m1\u001b[39m, timeout\u001b[39m=\u001b[39m\u001b[39m30\u001b[39m, show_clicks\u001b[39m=\u001b[39m\u001b[39mTrue\u001b[39;00m,\n\u001b[0;32m   2238\u001b[0m         mouse_add\u001b[39m=\u001b[39mMouseButton\u001b[39m.\u001b[39mLEFT, mouse_pop\u001b[39m=\u001b[39mMouseButton\u001b[39m.\u001b[39mRIGHT,\n\u001b[0;32m   2239\u001b[0m         mouse_stop\u001b[39m=\u001b[39mMouseButton\u001b[39m.\u001b[39mMIDDLE):\n\u001b[1;32m-> 2240\u001b[0m     \u001b[39mreturn\u001b[39;00m gcf()\u001b[39m.\u001b[39;49mginput(\n\u001b[0;32m   2241\u001b[0m         n\u001b[39m=\u001b[39;49mn, timeout\u001b[39m=\u001b[39;49mtimeout, show_clicks\u001b[39m=\u001b[39;49mshow_clicks,\n\u001b[0;32m   2242\u001b[0m         mouse_add\u001b[39m=\u001b[39;49mmouse_add, mouse_pop\u001b[39m=\u001b[39;49mmouse_pop,\n\u001b[0;32m   2243\u001b[0m         mouse_stop\u001b[39m=\u001b[39;49mmouse_stop)\n",
      "File \u001b[1;32mc:\\Users\\prave\\.conda\\envs\\lpy\\lib\\site-packages\\matplotlib\\figure.py:3360\u001b[0m, in \u001b[0;36mFigure.ginput\u001b[1;34m(self, n, timeout, show_clicks, mouse_add, mouse_pop, mouse_stop)\u001b[0m\n\u001b[0;32m   3357\u001b[0m     \u001b[39mif\u001b[39;00m \u001b[39mlen\u001b[39m(clicks) \u001b[39m==\u001b[39m n \u001b[39mand\u001b[39;00m n \u001b[39m>\u001b[39m \u001b[39m0\u001b[39m:\n\u001b[0;32m   3358\u001b[0m         \u001b[39mself\u001b[39m\u001b[39m.\u001b[39mcanvas\u001b[39m.\u001b[39mstop_event_loop()\n\u001b[1;32m-> 3360\u001b[0m _blocking_input\u001b[39m.\u001b[39;49mblocking_input_loop(\n\u001b[0;32m   3361\u001b[0m     \u001b[39mself\u001b[39;49m, [\u001b[39m\"\u001b[39;49m\u001b[39mbutton_press_event\u001b[39;49m\u001b[39m\"\u001b[39;49m, \u001b[39m\"\u001b[39;49m\u001b[39mkey_press_event\u001b[39;49m\u001b[39m\"\u001b[39;49m], timeout, handler)\n\u001b[0;32m   3363\u001b[0m \u001b[39m# Cleanup.\u001b[39;00m\n\u001b[0;32m   3364\u001b[0m \u001b[39mfor\u001b[39;00m mark \u001b[39min\u001b[39;00m marks:\n",
      "File \u001b[1;32mc:\\Users\\prave\\.conda\\envs\\lpy\\lib\\site-packages\\matplotlib\\_blocking_input.py:26\u001b[0m, in \u001b[0;36mblocking_input_loop\u001b[1;34m(figure, event_names, timeout, handler)\u001b[0m\n\u001b[0;32m     24\u001b[0m cids \u001b[39m=\u001b[39m [figure\u001b[39m.\u001b[39mcanvas\u001b[39m.\u001b[39mmpl_connect(name, handler) \u001b[39mfor\u001b[39;00m name \u001b[39min\u001b[39;00m event_names]\n\u001b[0;32m     25\u001b[0m \u001b[39mtry\u001b[39;00m:\n\u001b[1;32m---> 26\u001b[0m     figure\u001b[39m.\u001b[39;49mcanvas\u001b[39m.\u001b[39;49mstart_event_loop(timeout)  \u001b[39m# Start event loop.\u001b[39;00m\n\u001b[0;32m     27\u001b[0m \u001b[39mfinally\u001b[39;00m:  \u001b[39m# Run even on exception like ctrl-c.\u001b[39;00m\n\u001b[0;32m     28\u001b[0m     \u001b[39m# Disconnect the callbacks.\u001b[39;00m\n\u001b[0;32m     29\u001b[0m     \u001b[39mfor\u001b[39;00m cid \u001b[39min\u001b[39;00m cids:\n",
      "File \u001b[1;32mc:\\Users\\prave\\.conda\\envs\\lpy\\lib\\site-packages\\matplotlib\\backends\\_backend_tk.py:399\u001b[0m, in \u001b[0;36mFigureCanvasTk.start_event_loop\u001b[1;34m(self, timeout)\u001b[0m\n\u001b[0;32m    396\u001b[0m     \u001b[39melse\u001b[39;00m:\n\u001b[0;32m    397\u001b[0m         \u001b[39mself\u001b[39m\u001b[39m.\u001b[39m_event_loop_id \u001b[39m=\u001b[39m \u001b[39mself\u001b[39m\u001b[39m.\u001b[39m_tkcanvas\u001b[39m.\u001b[39mafter_idle(\n\u001b[0;32m    398\u001b[0m             \u001b[39mself\u001b[39m\u001b[39m.\u001b[39mstop_event_loop)\n\u001b[1;32m--> 399\u001b[0m \u001b[39mself\u001b[39;49m\u001b[39m.\u001b[39;49m_tkcanvas\u001b[39m.\u001b[39;49mmainloop()\n",
      "File \u001b[1;32mc:\\Users\\prave\\.conda\\envs\\lpy\\lib\\tkinter\\__init__.py:1429\u001b[0m, in \u001b[0;36mMisc.mainloop\u001b[1;34m(self, n)\u001b[0m\n\u001b[0;32m   1427\u001b[0m \u001b[39mdef\u001b[39;00m \u001b[39mmainloop\u001b[39m(\u001b[39mself\u001b[39m, n\u001b[39m=\u001b[39m\u001b[39m0\u001b[39m):\n\u001b[0;32m   1428\u001b[0m     \u001b[39m\"\"\"Call the mainloop of Tk.\"\"\"\u001b[39;00m\n\u001b[1;32m-> 1429\u001b[0m     \u001b[39mself\u001b[39;49m\u001b[39m.\u001b[39;49mtk\u001b[39m.\u001b[39;49mmainloop(n)\n",
      "\u001b[1;31mKeyboardInterrupt\u001b[0m: "
     ]
    }
   ],
   "source": [
    "# displayEpipolarF(im1, im2, F)"
   ]
  },
  {
   "cell_type": "code",
   "execution_count": 6,
   "metadata": {
    "deletable": false,
    "editable": false,
    "nbgrader": {
     "cell_type": "code",
     "checksum": "e485904de53edaf08376577668b73a81",
     "grade": true,
     "grade_id": "q1_1_a",
     "locked": true,
     "points": 3,
     "schema_version": 3,
     "solution": false,
     "task": false
    }
   },
   "outputs": [
    {
     "name": "stdout",
     "output_type": "stream",
     "text": [
      "[[-0.      0.     -0.2519]\n",
      " [ 0.     -0.      0.0026]\n",
      " [ 0.2422 -0.0068  1.    ]]\n",
      "0.39895034989884903\n"
     ]
    }
   ],
   "source": [
    "# Simple Tests to verify your implmentation:\n",
    "\n",
    "correspondence = np.load('data/some_corresp.npz') # Loading correspondences\n",
    "intrinsics = np.load('data/intrinsics.npz') # Loading the intrinscis of the camera\n",
    "K1, K2 = intrinsics['K1'], intrinsics['K2']\n",
    "pts1, pts2 = correspondence['pts1'], correspondence['pts2']\n",
    "im1 = plt.imread('data/im1.png')\n",
    "im2 = plt.imread('data/im2.png')\n",
    "\n",
    "F = eightpoint(pts1, pts2, M=np.max([*im1.shape, *im2.shape]))\n",
    "print(F)\n",
    "pts1_homogenous, pts2_homogenous = toHomogenous(pts1), toHomogenous(pts2)\n",
    "print(np.mean(calc_epi_error(pts1_homogenous, pts2_homogenous, F)))\n",
    "assert(F.shape == (3, 3))\n",
    "assert(F[2, 2] == 1)\n",
    "assert(np.linalg.matrix_rank(F) == 2)\n",
    "assert(np.mean(calc_epi_error(pts1_homogenous, pts2_homogenous, F)) < 1)"
   ]
  },
  {
   "cell_type": "code",
   "execution_count": null,
   "metadata": {
    "deletable": false,
    "editable": false,
    "nbgrader": {
     "cell_type": "code",
     "checksum": "b2fea15ea4144bc45d43cc14a6234265",
     "grade": true,
     "grade_id": "q1_1_b",
     "locked": true,
     "points": 5,
     "schema_version": 3,
     "solution": false,
     "task": false
    }
   },
   "outputs": [],
   "source": [
    "# Hidden Tests"
   ]
  },
  {
   "cell_type": "markdown",
   "metadata": {
    "deletable": false,
    "editable": false,
    "nbgrader": {
     "cell_type": "markdown",
     "checksum": "62c24b74ca9064a42801f1cfc1504cb1",
     "grade": false,
     "grade_id": "cell-543f11c09d2dfc06",
     "locked": true,
     "schema_version": 3,
     "solution": false,
     "task": false
    }
   },
   "source": [
    "### Q1.2: The Seven Point Algorithm (5 pt writeup, 10 pt implementation)\n",
    "\n",
    "Since the fundamental matrix only has seven degrees of freedom, it is possible to calculate $\\textbf{F}$ using only seven point correspondences. This requires solving a polynomial equation.  In the section, you will implement the seven-point algorithm (outlined in this [post](https://imkaywu.github.io/blog/2017/06/fundamental-matrix/)). Manually select $7$ points from provided point in `data/some_corresp.npz`, and use these points to recover a fundamental matrix $\\textbf{F}$. The function should have the signature:\n",
    "\n",
    "```\n",
    "Farray = sevenpoint(pts1, pts2, m)\n",
    "```\n",
    "\n",
    "where pts1 and pts2 are $7 \\times 2$ matrices containing the correspondences and $m$ is the normalizer (use the maximum of the images' height and width), and `Farray` is a list array of length either 1 or 3 containing Fundamental matrix/matrices. Use $m$ to normalize the point values between $[0,1]$ and remember to \"unnormalize\" your computed $\\textbf{F}$ afterwards.\n",
    "\n",
    "- Use `calc_epi_error` to calculate the error pick the best one, and use `displayEpipolarF` to visualize and verify the solution.\n",
    "\n",
    "<span style='color:red'>**Output:**</span> In your write-up: Print your recovered $\\textbf{F}$ and include an image output of `displayEpipolarF`.\n"
   ]
  },
  {
   "cell_type": "code",
   "execution_count": 7,
   "metadata": {
    "deletable": false,
    "nbgrader": {
     "cell_type": "code",
     "checksum": "67d530aa15c782fdc551a0c4f0fa795b",
     "grade": false,
     "grade_id": "cell-9fbc06c726f66b80",
     "locked": false,
     "schema_version": 3,
     "solution": true,
     "task": false
    }
   },
   "outputs": [],
   "source": [
    "def sevenpoint(pts1, pts2, M):\n",
    "    '''\n",
    "    Q1.2: Seven Point Algorithm for calculating the fundamental matrix\n",
    "        Input:  pts1, 7x2 Matrix containing the corresponding points from image1\n",
    "                pts2, 7x2 Matrix containing the corresponding points from image2\n",
    "                M, a scalar parameter computed as max (imwidth, imheight)\n",
    "        Output: Farray, a list of estimated 3x3 fundamental matrixes.\n",
    "        \n",
    "    ***\n",
    "    HINTS:\n",
    "    (1) Normalize the input pts1 and pts2 scale paramter M.\n",
    "    (2) Setup the seven point algorithm's equation.\n",
    "    (3) Solve for the least square solution using SVD. \n",
    "    (4) Pick the last two colum vector of vT.T (the two null space solution f1 and f2)\n",
    "    (5) Use the singularity constraint to solve for the cubic polynomial equation of  F = a*f1 + (1-a)*f2 that leads to \n",
    "        det(F) = 0. Sovling this polynomial will give you one or three real solutions of the fundamental matrix. \n",
    "        Use np.polynomial.polynomial.polyroots to solve for the roots\n",
    "    (6) Unscale the fundamental matrixes and return as Farray\n",
    "    '''\n",
    "\n",
    "    Farray = []\n",
    "\n",
    "    T = np.diag([1/M, 1/M, 1])\n",
    "    \n",
    "    # Converting the points to homogenous coordinates\n",
    "    pts1_homogenous, pts2_homogenous = toHomogenous(pts1), toHomogenous(pts2)\n",
    "    pts1_homogenous = np.dot(T, pts1_homogenous.T).T\n",
    "    pts2_homogenous = np.dot(T, pts2_homogenous.T).T\n",
    "    A = []\n",
    "    for i in range(len(pts1_homogenous)):\n",
    "        temp = []\n",
    "        pt1 = pts1_homogenous[i]\n",
    "        pt2 = pts2_homogenous[i]\n",
    "\n",
    "        temp.append(pt1[0] * pt2[0])\n",
    "        temp.append(pt1[0] * pt2[1])\n",
    "        temp.append(pt1[0] )\n",
    "        temp.append(pt1[1] * pt2[0])\n",
    "        temp.append(pt1[1] * pt2[1])\n",
    "        temp.append(pt1[1] )\n",
    "        temp.append(pt2[0])\n",
    "        temp.append(pt2[1])\n",
    "        temp.append(1)\n",
    "        A.append(temp)\n",
    "\n",
    "    A = np.array(A)\n",
    "\n",
    "    U, S, V = np.linalg.svd(A)\n",
    "    f2 = V[-1].reshape(3, 3).T\n",
    "    f1 = V[-2].reshape(3, 3).T\n",
    "    \n",
    "    # F = a*f1 + (1-a)*f2\n",
    "    lam = lambda a : np.linalg.det(a*f1 + (1 - a)*f2)\n",
    "\n",
    "\n",
    "    a0 = lam(0)\n",
    "    a1 = 2*(lam(1) - lam(-1))/3 - (lam(2) - lam(-2))/12\n",
    "    a2 = (lam(1) + lam(-1)) / 2 - a0\n",
    "    a3 =  (lam(1) - lam(-1)) / 2 - a1\n",
    "\n",
    "\n",
    "    \n",
    "\n",
    "    roots = np.roots((a3, a2, a1, a0))\n",
    "    Farray = []\n",
    "\n",
    "    for a in roots:\n",
    "        if np.isreal(a):\n",
    "            a = np.real(a)\n",
    "            F = a*f1 + (1 - a)*f2\n",
    "                \n",
    "\n",
    "            F = refineF(F, pts1/M, pts2/M)\n",
    "\n",
    "            F = np.dot(np.dot(T.T, F), T)\n",
    "            \n",
    "            F /= F[2, 2]\n",
    "\n",
    "            Farray.append(F)\n",
    "\n",
    "\n",
    "    return Farray\n"
   ]
  },
  {
   "cell_type": "code",
   "execution_count": 10,
   "metadata": {
    "deletable": false,
    "editable": false,
    "nbgrader": {
     "cell_type": "code",
     "checksum": "770887e9b7f382b7bf3a87b27d6f3ef6",
     "grade": true,
     "grade_id": "q1_2_a",
     "locked": true,
     "points": 10,
     "schema_version": 3,
     "solution": false,
     "task": false
    }
   },
   "outputs": [
    {
     "name": "stdout",
     "output_type": "stream",
     "text": [
      "Error =  0.5668901239522244\n"
     ]
    }
   ],
   "source": [
    "# Full set of tests; you will get full points for coding if you pass the following tests. \n",
    "\n",
    "# Test out the seven-point algorithm by randomly sampling 7 points and finding the best solution. \n",
    "np.random.seed(1)\n",
    "np.set_printoptions(precision=4, suppress=1)\n",
    "\n",
    "correspondence = np.load('data/some_corresp.npz') # Loading correspondences\n",
    "intrinsics = np.load('data/intrinsics.npz') # Loading the intrinscis of the camera\n",
    "K1, K2 = intrinsics['K1'], intrinsics['K2']\n",
    "pts1, pts2 = correspondence['pts1'], correspondence['pts2']\n",
    "im1 = plt.imread('data/im1.png')\n",
    "im2 = plt.imread('data/im2.png')\n",
    "\n",
    "max_iter = 500\n",
    "pts1_homo = np.hstack((pts1, np.ones((pts1.shape[0], 1))))\n",
    "pts2_homo = np.hstack((pts2, np.ones((pts2.shape[0], 1))))\n",
    "\n",
    "ress = []\n",
    "F_res = []\n",
    "choices = []\n",
    "minres = 5000\n",
    "F_out = None\n",
    "M=np.max([*im1.shape, *im2.shape])\n",
    "for i in range(max_iter):\n",
    "    choice = np.random.choice(range(pts1.shape[0]), 7)\n",
    "    pts1_choice = pts1[choice, :]\n",
    "    pts2_choice = pts2[choice, :]\n",
    "    Fs = sevenpoint(pts1_choice, pts2_choice, M)\n",
    "    for F in Fs:\n",
    "        choices.append(choice)\n",
    "        res = np.mean(calc_epi_error(pts1_homo,pts2_homo, F))\n",
    "        if res < minres:\n",
    "            F_out = F\n",
    "            minres = res\n",
    "        if(res < 1):\n",
    "            break\n",
    "        \n",
    "F = F_out\n",
    "print(\"Error = \", minres)\n",
    "assert(F.shape == (3, 3))\n",
    "assert(F[2, 2] == 1)\n",
    "assert(np.linalg.matrix_rank(F) == 2)\n",
    "assert(np.mean(calc_epi_error(pts1_homogenous, pts2_homogenous, F)) < 1)\n"
   ]
  },
  {
   "cell_type": "code",
   "execution_count": 12,
   "metadata": {},
   "outputs": [
    {
     "name": "stdout",
     "output_type": "stream",
     "text": [
      "[[ 0.      0.     -0.201 ]\n",
      " [ 0.     -0.      0.0007]\n",
      " [ 0.1922 -0.0042  1.    ]]\n"
     ]
    },
    {
     "ename": "IndexError",
     "evalue": "list index out of range",
     "output_type": "error",
     "traceback": [
      "\u001b[1;31m---------------------------------------------------------------------------\u001b[0m",
      "\u001b[1;31mIndexError\u001b[0m                                Traceback (most recent call last)",
      "\u001b[1;32mg:\\My Drive\\Acads\\Computer Vision\\Assignments\\hw5\\q1.ipynb Cell 15\u001b[0m in \u001b[0;36m<cell line: 2>\u001b[1;34m()\u001b[0m\n\u001b[0;32m      <a href='vscode-notebook-cell:/g%3A/My%20Drive/Acads/Computer%20Vision/Assignments/hw5/q1.ipynb#X20sZmlsZQ%3D%3D?line=0'>1</a>\u001b[0m \u001b[39mprint\u001b[39m(F)\n\u001b[1;32m----> <a href='vscode-notebook-cell:/g%3A/My%20Drive/Acads/Computer%20Vision/Assignments/hw5/q1.ipynb#X20sZmlsZQ%3D%3D?line=1'>2</a>\u001b[0m displayEpipolarF(im1, im2, F)\n",
      "\u001b[1;32mg:\\My Drive\\Acads\\Computer Vision\\Assignments\\hw5\\q1.ipynb Cell 15\u001b[0m in \u001b[0;36mdisplayEpipolarF\u001b[1;34m(I1, I2, F)\u001b[0m\n\u001b[0;32m     <a href='vscode-notebook-cell:/g%3A/My%20Drive/Acads/Computer%20Vision/Assignments/hw5/q1.ipynb#X20sZmlsZQ%3D%3D?line=34'>35</a>\u001b[0m \u001b[39mwhile\u001b[39;00m \u001b[39mTrue\u001b[39;00m:\n\u001b[0;32m     <a href='vscode-notebook-cell:/g%3A/My%20Drive/Acads/Computer%20Vision/Assignments/hw5/q1.ipynb#X20sZmlsZQ%3D%3D?line=35'>36</a>\u001b[0m     plt\u001b[39m.\u001b[39msca(ax1)\n\u001b[1;32m---> <a href='vscode-notebook-cell:/g%3A/My%20Drive/Acads/Computer%20Vision/Assignments/hw5/q1.ipynb#X20sZmlsZQ%3D%3D?line=36'>37</a>\u001b[0m     x, y \u001b[39m=\u001b[39m plt\u001b[39m.\u001b[39;49mginput(\u001b[39m1\u001b[39;49m, timeout\u001b[39m=\u001b[39;49m\u001b[39m3600\u001b[39;49m, mouse_stop\u001b[39m=\u001b[39;49m\u001b[39m2\u001b[39;49m)[\u001b[39m0\u001b[39;49m]\n\u001b[0;32m     <a href='vscode-notebook-cell:/g%3A/My%20Drive/Acads/Computer%20Vision/Assignments/hw5/q1.ipynb#X20sZmlsZQ%3D%3D?line=38'>39</a>\u001b[0m     xc \u001b[39m=\u001b[39m x\n\u001b[0;32m     <a href='vscode-notebook-cell:/g%3A/My%20Drive/Acads/Computer%20Vision/Assignments/hw5/q1.ipynb#X20sZmlsZQ%3D%3D?line=39'>40</a>\u001b[0m     yc \u001b[39m=\u001b[39m y\n",
      "\u001b[1;31mIndexError\u001b[0m: list index out of range"
     ]
    }
   ],
   "source": [
    "print(F)\n",
    "displayEpipolarF(im1, im2, F)"
   ]
  }
 ],
 "metadata": {
  "kernelspec": {
   "display_name": "Python 3.9.13 ('lpy')",
   "language": "python",
   "name": "python3"
  },
  "language_info": {
   "codemirror_mode": {
    "name": "ipython",
    "version": 3
   },
   "file_extension": ".py",
   "mimetype": "text/x-python",
   "name": "python",
   "nbconvert_exporter": "python",
   "pygments_lexer": "ipython3",
   "version": "3.9.13"
  },
  "toc": {
   "base_numbering": 1,
   "nav_menu": {},
   "number_sections": false,
   "sideBar": true,
   "skip_h1_title": true,
   "title_cell": "Table of Contents",
   "title_sidebar": "Contents",
   "toc_cell": false,
   "toc_position": {
    "height": "calc(100% - 180px)",
    "left": "10px",
    "top": "150px",
    "width": "401.094px"
   },
   "toc_section_display": true,
   "toc_window_display": true
  },
  "vscode": {
   "interpreter": {
    "hash": "8a5f83665e2d1a2721f1b9b52eb576adbf12a04fc14c75407e99aa6496dd8113"
   }
  }
 },
 "nbformat": 4,
 "nbformat_minor": 4
}
